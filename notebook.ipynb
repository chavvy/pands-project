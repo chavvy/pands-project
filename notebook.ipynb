{
 "cells": [
  {
   "cell_type": "markdown",
   "id": "06b90c54",
   "metadata": {},
   "source": [
    "# **PANDS Project**  "
   ]
  },
  {
   "cell_type": "markdown",
   "id": "6480c248",
   "metadata": {},
   "source": [
    "### **App Functionality**\n",
    "The user is presented with a menu in which they can choose various options to interact with the iris dataset.\n",
    "\n",
    "**Option 1 - Dataset information:** \n",
    "- Allows the user to get the relevant dataset information, such as features, features names, targets, target names, shape etc.\n",
    "\n",
    "**Option 2 - Summarise the data:** \n",
    "- Allows the user to get the mean, min, max, median and std of each feature.  \n",
    "- The user can choose between either summary option, or all of them.  \n",
    "- After the user chooses an option, the summary will be output to a .txt file called summary.txt.  \n",
    "- If summary.txt already exists, it will be overwritten (maybe add an option to confirm this before doing it)\n",
    "\n",
    "**Option 3 - Generate Histogram:**   \n",
    "- Allows the user to get a histogram png of any chosen feature. \n",
    "- Potentially add the option of getting a histogram for a chosen species (not implemented).  \n",
    "- The png will be saved and named according to the feature chosen (e.g. petal_length_hist.png, sepal_length_hist.png)\n",
    "\n",
    "**Option 4 - Generate Scatterplot:**   \n",
    "- The user can choose between two features and have them compared against each other in a scatterplot.  \n",
    "- Potentially add the option to include a regression line (not implemented)."
   ]
  },
  {
   "cell_type": "markdown",
   "id": "b307ed56",
   "metadata": {},
   "source": [
    "### **Main menu (analysis.py)**  \n",
    "Was tasked with making a menu for the applied databases module, so will be reusing some code I made there here.  \n",
    "I also just liked being able to navigate through a menu."
   ]
  },
  {
   "cell_type": "code",
   "execution_count": 4,
   "id": "b27d3085",
   "metadata": {},
   "outputs": [
    {
     "name": "stdout",
     "output_type": "stream",
     "text": [
      "\n",
      "Iris Dataset Analysis\n",
      "---------\n",
      "\n",
      "MENU\n",
      "====\n",
      "1. Summarise data\n",
      "2. Generate Histogram\n",
      "3. Generate Scatterplot\n",
      "4. [placeholder]\n",
      "x. Exit application\n"
     ]
    }
   ],
   "source": [
    "#layout of the menu\n",
    "def show_menu():\n",
    "    print(\"\\nIris Dataset Analysis\\n---------\\n\")\n",
    "    print(\"MENU\\n====\")\n",
    "    print(\"1. Summarise data\")\n",
    "    print(\"2. Generate Histogram\")\n",
    "    print(\"3. Generate Scatterplot\")\n",
    "    print(\"4. [placeholder]\")\n",
    "    print(\"x. Exit application\")\n",
    "\n",
    "show_menu()"
   ]
  },
  {
   "cell_type": "markdown",
   "id": "5a756bfd",
   "metadata": {},
   "source": [
    "### **Loading the iris database**  \n",
    "This was the code I had for loading the iris database (from principles of data analytics module)"
   ]
  },
  {
   "cell_type": "code",
   "execution_count": 5,
   "id": "c442ffbd",
   "metadata": {},
   "outputs": [],
   "source": [
    "from sklearn.datasets import load_iris\n",
    "\n",
    "#loading iris dataset\n",
    "iris_data = load_iris()\n",
    "\n",
    "#variable names\n",
    "keys = iris_data.keys()\n",
    "features = iris_data['data']\n",
    "features_shape = iris_data['data'].shape\n",
    "target = iris_data['target']\n",
    "target_shape = iris_data['target'].shape\n",
    "target_names = iris_data['target_names']\n",
    "features_names = iris_data['feature_names']"
   ]
  },
  {
   "cell_type": "markdown",
   "id": "cf67db6a",
   "metadata": {},
   "source": [
    "Originally it was laid out like this because all the code was in one jupyter notebook, but for the sake of this project, I'll be structuring everything in seperate files to keep the main analysis.py neat and easier to read. So for example, I'll have a different .py file for each menu option, a .py file for loading iris data and for other functions etc. This also makes it easier to work on the code one at a time and less messy."
   ]
  },
  {
   "cell_type": "code",
   "execution_count": null,
   "id": "8bcdfac3",
   "metadata": {},
   "outputs": [],
   "source": [
    "#turning the load iris code into a function that can be called from any file\n",
    "#a dictonary can be used to create the \"variables\" that can be called\n",
    "#exluding some variables since they werent used or can be added when its needed\n",
    "def load_iris_data():\n",
    "    iris_data = load_iris()\n",
    "    return {\n",
    "        \"data\": iris_data.data,\n",
    "        \"target\": iris_data.target,\n",
    "        \"target_names\": iris_data.target_names,\n",
    "        \"feature_names\": iris_data.feature_names\n",
    "    }"
   ]
  },
  {
   "cell_type": "markdown",
   "id": "c8e06ad0",
   "metadata": {},
   "source": [
    "### **Functions for getting iris information**  \n",
    "These are functions that I had made for getting information from the iris dataset. I'm not sure yet if I'll use it for this project but I'll include it anyways and find a use for it later.\n",
    "Originally I had a function for each variable like below:"
   ]
  },
  {
   "cell_type": "code",
   "execution_count": null,
   "id": "2868de92",
   "metadata": {},
   "outputs": [],
   "source": [
    "#functions I used for getting information from iris dataset\n",
    "\n",
    "def iris_features(data):\n",
    "    features = data['data']\n",
    "    print(f\"\\nFeatures of the data:\")\n",
    "    print(features)\n",
    "\n",
    "def iris_features_shape(data):\n",
    "    features_shape = data['data'].shape\n",
    "    print(f\"\\nShape of the data:\")\n",
    "    print(features_shape)\n",
    "\n",
    "def iris_target(data):\n",
    "    target = data['target']\n",
    "    print(f\"\\nTarget of the data:\")\n",
    "    print(target)\n",
    "\n",
    "def iris_shape(data):\n",
    "    target_shape = data['target'].shape\n",
    "    print(f\"\\nTarget shape of the data:\")\n",
    "    print(target_shape)\n",
    "\n",
    "def iris_target_names(data):\n",
    "    target_names = data['target_names']\n",
    "    print(f\"\\nTarget names of the data:\")\n",
    "    print(target_names)\n",
    "\n",
    "def iris_features_names(data):\n",
    "    features_names = data['feature_names']\n",
    "    print(f\"\\nFeature names of the data:\")\n",
    "    print(features_names)"
   ]
  },
  {
   "cell_type": "markdown",
   "id": "82dbeae2",
   "metadata": {},
   "source": [
    "However, the functions were very similar and served the same purpose, so I wanted to try compress functions with similar purpose into one singular function"
   ]
  },
  {
   "cell_type": "code",
   "execution_count": null,
   "id": "f8d84663",
   "metadata": {},
   "outputs": [],
   "source": [
    "#Functions for printing information on the iris dataset just for easier reading\n",
    "#var would be something like data, target, feature_name etc.\n",
    "def iris_info(name, var):\n",
    "    print(f\"\\n{name} of the data:\")\n",
    "    print(var)"
   ]
  },
  {
   "cell_type": "markdown",
   "id": "fb29d425",
   "metadata": {},
   "source": [
    "Similary with the functions I made for getting the summary of the data (such as mean, min, max, median, std)"
   ]
  },
  {
   "cell_type": "code",
   "execution_count": null,
   "id": "b9c6a0ae",
   "metadata": {},
   "outputs": [],
   "source": [
    "import numpy as np\n",
    "\n",
    "#functions for summarizing the iris dataset\n",
    "def iris_feature_means(data):\n",
    "    features = data['data']\n",
    "    feature_names = data['feature_names']\n",
    "    print(\"\\nMean of each feature:\")\n",
    "    for r, name in enumerate(feature_names):\n",
    "        print(f\"{name}: {np.mean(features[:, r]):.2f}\")\n",
    "\n",
    "def iris_feature_mins(data):\n",
    "    features = data['data']\n",
    "    feature_names = data['feature_names']\n",
    "    print(\"\\nMinimum of each feature:\")\n",
    "    for r, name in enumerate(feature_names):\n",
    "        print(f\"{name}: {np.min(features[:, r]):.2f}\")\n",
    "\n",
    "def iris_feature_maxs(data):\n",
    "    features = data['data']\n",
    "    feature_names = data['feature_names']\n",
    "    print(\"\\nMaximum of each feature:\")\n",
    "    for r, name in enumerate(feature_names):\n",
    "        print(f\"{name}: {np.max(features[:, r]):.2f}\")\n",
    "\n",
    "def iris_feature_stds(data):\n",
    "    features = data['data']\n",
    "    feature_names = data['feature_names']\n",
    "    print(\"\\nStandard deviation of each feature:\")\n",
    "    for r, name in enumerate(feature_names):\n",
    "        print(f\"{name}: {np.std(features[:, r]):.2f}\")\n",
    "\n",
    "def iris_feature_medians(data):\n",
    "    features = data['data']\n",
    "    feature_names = data['feature_names']\n",
    "    print(\"\\nMedian of each feature:\")\n",
    "    for r, name in enumerate(feature_names):\n",
    "        print(f\"{name}: {np.median(features[:, r]):.2f}\")"
   ]
  },
  {
   "cell_type": "markdown",
   "id": "fb3a7438",
   "metadata": {},
   "source": [
    "Compressing it all into one function"
   ]
  },
  {
   "cell_type": "code",
   "execution_count": null,
   "id": "a9691e2e",
   "metadata": {},
   "outputs": [],
   "source": [
    "#functions for summarizing the iris dataset\n",
    "def iris_features_summary(features, features_names, stat=\"\"):\n",
    "    #making a dictiononary to pair each numpy function\n",
    "    #wanted this to have similar functionality to the iris_info function\n",
    "    #where one function can be used for a similar purpose by calling different arguments\n",
    "    stat_function = {\n",
    "\n",
    "        \"mean\" : np.mean,\n",
    "        \"min\" : np.min,\n",
    "        \"max\" : np.max,\n",
    "        \"std\" : np.std,\n",
    "        \"median\" : np.median\n",
    "\n",
    "    }\n",
    "\n",
    "    function = stat_function[stat]\n",
    "    print(f\"\\n{stat.capitalize()} of each feature:\")\n",
    "    \n",
    "    for r, name in enumerate(features_names):\n",
    "        answer = function(features[:, r])\n",
    "        print(f\"{name}: {answer:.2f}\")"
   ]
  },
  {
   "cell_type": "markdown",
   "id": "35fd2c73",
   "metadata": {},
   "source": [
    "Made a change to the function names for potential future usage (such as using a dataset that isnt the iris dataset)."
   ]
  },
  {
   "cell_type": "markdown",
   "id": "8bc344c3",
   "metadata": {},
   "source": [
    "### **Menu format**  \n",
    "First making the menu layout"
   ]
  },
  {
   "cell_type": "code",
   "execution_count": 7,
   "id": "f89a503f",
   "metadata": {},
   "outputs": [
    {
     "name": "stdout",
     "output_type": "stream",
     "text": [
      "\n",
      "Summarise Data\n",
      "====\n",
      "1. Mean\n",
      "2. Minimum\n",
      "3. Maximum\n",
      "4. Median\n",
      "5. Standard Deviation\n",
      "6. Show all summaries\n",
      "x. Return to menu\n"
     ]
    }
   ],
   "source": [
    "#menu for the user to choose a summary\n",
    "def show_summary_menu():\n",
    "    print(\"\\nSummarise Data\\n====\")\n",
    "    print(\"1. Mean\")\n",
    "    print(\"2. Minimum\")\n",
    "    print(\"3. Maximum\")\n",
    "    print(\"4. Median\")\n",
    "    print(\"5. Standard Deviation\")\n",
    "    print(\"6. Show all summaries\")\n",
    "    print(\"x. Return to menu\")\n",
    "\n",
    "show_summary_menu()"
   ]
  },
  {
   "cell_type": "markdown",
   "id": "571619d9",
   "metadata": {},
   "source": [
    "For the menu functionality, I'll be using if, elif, else for it.  \n",
    "This is how the code looks, and will be the same format for every other menu used in the app."
   ]
  },
  {
   "cell_type": "code",
   "execution_count": null,
   "id": "85b9132b",
   "metadata": {},
   "outputs": [],
   "source": [
    "#function for choosing menu option, and what each choice does\n",
    "def main():\n",
    "    while True:\n",
    "        show_menu()  #display the menu\n",
    "        choice = input(\"Enter the number of your choice: \").strip().lower()  #get user's choice\n",
    "        \n",
    "        if choice == '1':\n",
    "            show_data_info()\n",
    "        elif choice == '2':\n",
    "            summarise_data()\n",
    "        elif choice == '3':\n",
    "            generate_histogram()\n",
    "        elif choice == '4':\n",
    "            generate_scatterplot()\n",
    "        elif choice == 'x':\n",
    "            print(\"Exiting application...\") #for \"submenus\", it will show \"Returning to menu...\" and have return instead of break instead\n",
    "            break  #exit the loop and end the program\n",
    "        else:\n",
    "            print(\"Error: Please select a valid option.\")\n",
    "\n",
    "if __name__ == \"__main__\":\n",
    "    main()"
   ]
  },
  {
   "cell_type": "markdown",
   "id": "ca84f36d",
   "metadata": {},
   "source": [
    "### Folder structure  \n",
    "Currently there are 3 folders that the app will operate with.  \n",
    "- menu folder  \n",
    "- utils folder  \n",
    "- output folder  \n",
    "\n",
    "The menu folder is where the logic for the main menu options will be called from.  \n",
    "The utils folder has the general use functions that can be reusable, such as the load_data function  \n",
    "The output folder is where any saved outputs will be stored\n"
   ]
  },
  {
   "cell_type": "markdown",
   "id": "9a6154b7",
   "metadata": {},
   "source": [
    "### Saving the outputs to a .txt  \n",
    "I wanted to add an option to save the chosen output to a .txt file, which would go in the \"outputs\" folder.  \n",
    "The method I'm going for is using lists, i.e. storing the output as a list of strings and returning it to the function."
   ]
  },
  {
   "cell_type": "code",
   "execution_count": null,
   "id": "7d844126",
   "metadata": {},
   "outputs": [],
   "source": [
    "import os\n",
    "\n",
    "#a function that handles saving outputs to a file\n",
    "#requires analysis.py to be run from the application folder\n",
    "def save_output(lines, filename=\"\"):\n",
    "    #ensure the output directory exists\n",
    "    os.makedirs(\"output\", exist_ok=True)\n",
    "\n",
    "    #define the full path where the file will be saved\n",
    "    filepath = os.path.join(\"output\", filename)\n",
    "\n",
    "    #write the lines to the file\n",
    "    with open(filepath, \"w\") as f:\n",
    "        for line in lines:\n",
    "            f.write(line + \"\\n\")\n",
    "\n",
    "    print(f\"\\nOutput saved to '{filepath}'\")"
   ]
  },
  {
   "cell_type": "markdown",
   "id": "96e7dfd8",
   "metadata": {},
   "source": [
    "Adjustments to make it so that the output folder will be found from wherever the analysis.py file is in  \n",
    "This was used in pretty every file_saver function"
   ]
  },
  {
   "cell_type": "code",
   "execution_count": null,
   "id": "c2eb00ac",
   "metadata": {},
   "outputs": [],
   "source": [
    "import os\n",
    "\n",
    "#a function that handles saving outputs to a file\n",
    "def save_output(lines, filename=\"\", folder=\"output\"):\n",
    "\n",
    "    #get absolute path to the directory of this script\n",
    "    #__file__ holds path to current script\n",
    "    base_directory = os.path.dirname(os.path.abspath(__file__))\n",
    "\n",
    "    #create full path to output folder\n",
    "    output_directory = os.path.join(base_directory, \"..\", folder)\n",
    "\n",
    "    #ensure the output directory exists, creates one if it does not\n",
    "    os.makedirs(output_directory, exist_ok=True)\n",
    "\n",
    "    #create full path to output file\n",
    "    filepath = os.path.join(output_directory, filename)\n",
    "\n",
    "    #write the lines to the file\n",
    "    with open(filepath, 'w') as f:\n",
    "        for line in lines:\n",
    "            f.write(line + '\\n')\n",
    "\n",
    "    print(f\"\\nOutput saved to: {filepath}\")"
   ]
  },
  {
   "cell_type": "markdown",
   "id": "ec7715ed",
   "metadata": {},
   "source": [
    "### Dynamically generating menu  \n",
    "Since I wanted this to potentially work for other datasets (untested), I wanted to make the menu for the histogram and scatterplots dynamically generating, meaning that it would generate a menu option for each feature, rather than there being a fixed menu option like in the summaries or dataset_info menus."
   ]
  },
  {
   "cell_type": "code",
   "execution_count": 11,
   "id": "c6729377",
   "metadata": {},
   "outputs": [
    {
     "name": "stdout",
     "output_type": "stream",
     "text": [
      "\n",
      "Choose a feature to display the histogram:\n",
      "1. sepal length (cm)\n",
      "2. sepal width (cm)\n",
      "3. petal length (cm)\n",
      "4. petal width (cm)\n",
      "x. Return to menu\n"
     ]
    }
   ],
   "source": [
    "print(\"\\nChoose a feature to display the histogram:\")\n",
    "\n",
    "#dynamically generating the menu based on the features names\n",
    "#similar to the data summary function but only getting the names this time\n",
    "for i, feature in enumerate(features_names, 1):\n",
    "    print(f\"{i}. {feature}\")\n",
    "\n",
    "print(\"x. Return to menu\")\n"
   ]
  },
  {
   "cell_type": "markdown",
   "id": "2699feab",
   "metadata": {},
   "source": [
    "Getting the menu options itself was very similar to the function used to get the summaries, except this time we're only trying to get the feature names and not any other values assosciated with them.  \n",
    "  \n",
    "Assigning the feature names to the user's choice was a little tricky. The way the menu is layed out, the user enters a number starting from 1, but with \"indexing\" in python, the count starts from 0 instead. So had to get the feature_name again after a choice was given by taking the user's choice and taking away 1 from it.  \n",
    "\n",
    "Using len, we can get the total length of the list to determine what choices the user can choose without an error."
   ]
  },
  {
   "cell_type": "code",
   "execution_count": null,
   "id": "fed9f37c",
   "metadata": {},
   "outputs": [
    {
     "name": "stdout",
     "output_type": "stream",
     "text": [
      "['sepal length (cm)', 'sepal width (cm)', 'petal length (cm)', 'petal width (cm)']\n",
      "sepal length (cm)\n"
     ]
    }
   ],
   "source": [
    "print(features_names)\n",
    "choice = str(1)\n",
    "\n",
    "if choice.isdigit():\n",
    "    choice = int(choice)\n",
    "    if 1 <= choice <= len(features_names): #assigning a number to each feature\n",
    "        feature_name = features_names[choice - 1]\n",
    "\n",
    "        print(feature_name)\n",
    "    else:\n",
    "        print(\"Error: Please select a valid option.\")\n",
    "else:\n",
    "    print(\"Error: Please select a valid option.\")"
   ]
  },
  {
   "cell_type": "markdown",
   "id": "2b724fce",
   "metadata": {},
   "source": [
    "Here we can see that the sepal length is the \"first\" feature, (user choice of 1), and due to the feature_name = features_names[choice -1], the index value is set to 0, which gives us the sepal length. Essentially sepal length is assigned a value of 0, so we have to take the user's choice and -1 etc."
   ]
  }
 ],
 "metadata": {
  "kernelspec": {
   "display_name": "base",
   "language": "python",
   "name": "python3"
  },
  "language_info": {
   "codemirror_mode": {
    "name": "ipython",
    "version": 3
   },
   "file_extension": ".py",
   "mimetype": "text/x-python",
   "name": "python",
   "nbconvert_exporter": "python",
   "pygments_lexer": "ipython3",
   "version": "3.12.7"
  }
 },
 "nbformat": 4,
 "nbformat_minor": 5
}
