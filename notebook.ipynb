{
 "cells": [
  {
   "cell_type": "markdown",
   "id": "06b90c54",
   "metadata": {},
   "source": [
    "# **PANDS Project**  "
   ]
  },
  {
   "cell_type": "markdown",
   "id": "6480c248",
   "metadata": {},
   "source": [
    "### **App Functionality**\n",
    "The user is presented with a menu in which they can choose various options to interact with the iris dataset.\n",
    "\n",
    "**Option 1 - Summarise the data:** \n",
    "- Allows the user to get the mean, min, max, median and std of each feature.  \n",
    "- The user can choose between either summary option, or all of them.  \n",
    "- After the user chooses an option, the summary will be output to a .txt file called summary.txt.  \n",
    "- If summary.txt already exists, it will be overwritten (maybe add an option to confirm this before doing it)\n",
    "\n",
    "**Option 2 - Generate Histogram:**   \n",
    "- Allows the user to get a histogram png of any chosen feature or all features.  \n",
    "- Potentially add the option of getting a histogram for a chosen species.  \n",
    "- The png will be saved and named according to the feature chosen (e.g. petal_length_hist.png, sepal_length_hist.png)\n",
    "\n",
    "**Option 3 - Generate Scatterplot:**   \n",
    "- The user can choose between two features and have them compared against each other in a scatterplot.  \n",
    "- Potentially add the option to include a regression line."
   ]
  },
  {
   "cell_type": "markdown",
   "id": "b307ed56",
   "metadata": {},
   "source": [
    "### **Main menu (analysis.py)**  \n",
    "Was tasked with making a menu for the applied databases module, so will be reusing some code I made there here.  \n",
    "I also just liked being able to navigate through a menu."
   ]
  },
  {
   "cell_type": "code",
   "execution_count": 4,
   "id": "b27d3085",
   "metadata": {},
   "outputs": [
    {
     "name": "stdout",
     "output_type": "stream",
     "text": [
      "\n",
      "Iris Dataset Analysis\n",
      "---------\n",
      "\n",
      "MENU\n",
      "====\n",
      "1. Summarise data\n",
      "2. Generate Histogram\n",
      "3. Generate Scatterplot\n",
      "4. [placeholder]\n",
      "x. Exit application\n"
     ]
    }
   ],
   "source": [
    "#layout of the menu\n",
    "def show_menu():\n",
    "    print(\"\\nIris Dataset Analysis\\n---------\\n\")\n",
    "    print(\"MENU\\n====\")\n",
    "    print(\"1. Summarise data\")\n",
    "    print(\"2. Generate Histogram\")\n",
    "    print(\"3. Generate Scatterplot\")\n",
    "    print(\"4. [placeholder]\")\n",
    "    print(\"x. Exit application\")\n",
    "\n",
    "show_menu()"
   ]
  },
  {
   "cell_type": "markdown",
   "id": "5a756bfd",
   "metadata": {},
   "source": [
    "### **Loading the iris database**  \n",
    "This was the code I had for loading the iris database (from principles of data analytics module)"
   ]
  },
  {
   "cell_type": "code",
   "execution_count": 5,
   "id": "c442ffbd",
   "metadata": {},
   "outputs": [],
   "source": [
    "from sklearn.datasets import load_iris\n",
    "\n",
    "#loading iris dataset\n",
    "iris_data = load_iris()\n",
    "\n",
    "#variable names\n",
    "keys = iris_data.keys()\n",
    "features = iris_data['data']\n",
    "features_shape = iris_data['data'].shape\n",
    "target = iris_data['target']\n",
    "target_shape = iris_data['target'].shape\n",
    "target_names = iris_data['target_names']\n",
    "features_names = iris_data['feature_names']"
   ]
  },
  {
   "cell_type": "markdown",
   "id": "cf67db6a",
   "metadata": {},
   "source": [
    "Originally it was laid out like this because all the code was in one jupyter notebook, but for the sake of this project, I'll be structuring everything in seperate files to keep the main analysis.py neat and easier to read. So for example, I'll have a different .py file for each menu option, a .py file for loading iris data and for other functions etc. This also makes it easier to work on the code one at a time and less messy."
   ]
  },
  {
   "cell_type": "code",
   "execution_count": null,
   "id": "8bcdfac3",
   "metadata": {},
   "outputs": [],
   "source": [
    "#turning the load iris code into a function that can be called from any file\n",
    "#a dictonary can be used to create the \"variables\" that can be called\n",
    "#exluding some variables since they werent used or can be added when its needed\n",
    "def load_iris_data():\n",
    "    iris_data = load_iris()\n",
    "    return {\n",
    "        \"data\": iris_data.data,\n",
    "        \"target\": iris_data.target,\n",
    "        \"target_names\": iris_data.target_names,\n",
    "        \"feature_names\": iris_data.feature_names\n",
    "    }"
   ]
  },
  {
   "cell_type": "markdown",
   "id": "c8e06ad0",
   "metadata": {},
   "source": [
    "### **Functions for getting iris information**  \n",
    "These are functions that I had made for getting information from the iris dataset. I'm not sure yet if I'll use it for this project but I'll include it anyways and find a use for it later.\n",
    "Originally I had a function for each variable like below:"
   ]
  },
  {
   "cell_type": "code",
   "execution_count": null,
   "id": "2868de92",
   "metadata": {},
   "outputs": [],
   "source": [
    "#functions I used for getting information from iris dataset\n",
    "\n",
    "def iris_features(data):\n",
    "    features = data['data']\n",
    "    print(f\"\\nFeatures of the data:\")\n",
    "    print(features)\n",
    "\n",
    "def iris_features_shape(data):\n",
    "    features_shape = data['data'].shape\n",
    "    print(f\"\\nShape of the data:\")\n",
    "    print(features_shape)\n",
    "\n",
    "def iris_target(data):\n",
    "    target = data['target']\n",
    "    print(f\"\\nTarget of the data:\")\n",
    "    print(target)\n",
    "\n",
    "def iris_shape(data):\n",
    "    target_shape = data['target'].shape\n",
    "    print(f\"\\nTarget shape of the data:\")\n",
    "    print(target_shape)\n",
    "\n",
    "def iris_target_names(data):\n",
    "    target_names = data['target_names']\n",
    "    print(f\"\\nTarget names of the data:\")\n",
    "    print(target_names)\n",
    "\n",
    "def iris_features_names(data):\n",
    "    features_names = data['feature_names']\n",
    "    print(f\"\\nFeature names of the data:\")\n",
    "    print(features_names)"
   ]
  },
  {
   "cell_type": "markdown",
   "id": "82dbeae2",
   "metadata": {},
   "source": [
    "However, the functions were very similar and served the same purpose, so I wanted to try compress functions with similar purpose into one singular function"
   ]
  },
  {
   "cell_type": "code",
   "execution_count": null,
   "id": "f8d84663",
   "metadata": {},
   "outputs": [],
   "source": [
    "#Functions for printing information on the iris dataset just for easier reading\n",
    "#var would be something like data, target, feature_name etc.\n",
    "def iris_info(name, var):\n",
    "    print(f\"\\n{name} of the data:\")\n",
    "    print(var)"
   ]
  },
  {
   "cell_type": "markdown",
   "id": "fb29d425",
   "metadata": {},
   "source": [
    "Similary with the functions I made for getting the summary of the data (such as mean, min, max, median, std)"
   ]
  },
  {
   "cell_type": "code",
   "execution_count": null,
   "id": "b9c6a0ae",
   "metadata": {},
   "outputs": [],
   "source": [
    "import numpy as np\n",
    "\n",
    "#functions for summarizing the iris dataset\n",
    "def iris_feature_means(data):\n",
    "    features = data['data']\n",
    "    feature_names = data['feature_names']\n",
    "    print(\"\\nMean of each feature:\")\n",
    "    for r, name in enumerate(feature_names):\n",
    "        print(f\"{name}: {np.mean(features[:, r]):.2f}\")\n",
    "\n",
    "def iris_feature_mins(data):\n",
    "    features = data['data']\n",
    "    feature_names = data['feature_names']\n",
    "    print(\"\\nMinimum of each feature:\")\n",
    "    for r, name in enumerate(feature_names):\n",
    "        print(f\"{name}: {np.min(features[:, r]):.2f}\")\n",
    "\n",
    "def iris_feature_maxs(data):\n",
    "    features = data['data']\n",
    "    feature_names = data['feature_names']\n",
    "    print(\"\\nMaximum of each feature:\")\n",
    "    for r, name in enumerate(feature_names):\n",
    "        print(f\"{name}: {np.max(features[:, r]):.2f}\")\n",
    "\n",
    "def iris_feature_stds(data):\n",
    "    features = data['data']\n",
    "    feature_names = data['feature_names']\n",
    "    print(\"\\nStandard deviation of each feature:\")\n",
    "    for r, name in enumerate(feature_names):\n",
    "        print(f\"{name}: {np.std(features[:, r]):.2f}\")\n",
    "\n",
    "def iris_feature_medians(data):\n",
    "    features = data['data']\n",
    "    feature_names = data['feature_names']\n",
    "    print(\"\\nMedian of each feature:\")\n",
    "    for r, name in enumerate(feature_names):\n",
    "        print(f\"{name}: {np.median(features[:, r]):.2f}\")"
   ]
  },
  {
   "cell_type": "markdown",
   "id": "fb3a7438",
   "metadata": {},
   "source": [
    "Compressing it all into one function"
   ]
  },
  {
   "cell_type": "code",
   "execution_count": null,
   "id": "a9691e2e",
   "metadata": {},
   "outputs": [],
   "source": [
    "#functions for summarizing the iris dataset\n",
    "def iris_features_summary(features, features_names, stat=\"\"):\n",
    "    #making a dictiononary to pair each numpy function\n",
    "    #wanted this to have similar functionality to the iris_info function\n",
    "    #where one function can be used for a similar purpose by calling different arguments\n",
    "    stat_function = {\n",
    "\n",
    "        \"mean\" : np.mean,\n",
    "        \"min\" : np.min,\n",
    "        \"max\" : np.max,\n",
    "        \"std\" : np.std,\n",
    "        \"median\" : np.median\n",
    "\n",
    "    }\n",
    "\n",
    "    function = stat_function[stat]\n",
    "    print(f\"\\n{stat.capitalize()} of each feature:\")\n",
    "    \n",
    "    for r, name in enumerate(features_names):\n",
    "        answer = function(features[:, r])\n",
    "        print(f\"{name}: {answer:.2f}\")"
   ]
  }
 ],
 "metadata": {
  "kernelspec": {
   "display_name": "base",
   "language": "python",
   "name": "python3"
  },
  "language_info": {
   "codemirror_mode": {
    "name": "ipython",
    "version": 3
   },
   "file_extension": ".py",
   "mimetype": "text/x-python",
   "name": "python",
   "nbconvert_exporter": "python",
   "pygments_lexer": "ipython3",
   "version": "3.12.7"
  }
 },
 "nbformat": 4,
 "nbformat_minor": 5
}
